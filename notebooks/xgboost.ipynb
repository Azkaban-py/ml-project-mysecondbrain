XGBoost Classification Pipeline (Notebook)

import pandas as pd from sklearn.model_selection import train_test_split from sklearn.preprocessing import OneHotEncoder from sklearn.compose import ColumnTransformer from sklearn.pipeline import Pipeline from xgboost import XGBClassifier from sklearn.metrics import classification_report, confusion_matrix, ConfusionMatrixDisplay import matplotlib.pyplot as plt import joblib

--- Cargar datos ---

Reemplazar con el path real

file_path = '../data/tus_datos.csv' df = pd.read_csv(file_path) df.head()

--- Separar features y target ---

X = df.drop(columns='target')  # Reemplazar 'target' si es necesario y = df['target']

--- Detectar columnas categóricas ---

cat_cols = X.select_dtypes(include='object').columns.tolist()

--- Train/Test Split ---

X_train, X_test, y_train, y_test = train_test_split(X, y, test_size=0.2, random_state=42)

--- Pipeline ---

preprocessor = ColumnTransformer( transformers=[ ('cat', OneHotEncoder(handle_unknown='ignore'), cat_cols) ], remainder='passthrough' )

pipeline = Pipeline([ ('preprocessor', preprocessor), ('classifier', XGBClassifier(use_label_encoder=False, eval_metric='logloss', random_state=42)) ])

--- Entrenar ---

pipeline.fit(X_train, y_train)

--- Evaluar ---

y_pred = pipeline.predict(X_test) print(classification_report(y_test, y_pred))

--- Matriz de Confusión ---

cm = confusion_matrix(y_test, y_pred) disp = ConfusionMatrixDisplay(confusion_matrix=cm) disp.plot(cmap='Blues') plt.title("Matriz de Confusión") plt.show()

--- Guardar modelo ---

joblib.dump(pipeline, '../models/modelo_xgb_pipeline.joblib') print("Modelo guardado en '../models/modelo_xgb_pipeline.joblib'")

